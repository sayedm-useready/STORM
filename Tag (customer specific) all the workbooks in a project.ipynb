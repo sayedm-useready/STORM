{
 "cells": [
  {
   "cell_type": "code",
   "execution_count": 3,
   "id": "d69a636b",
   "metadata": {},
   "outputs": [],
   "source": [
    "# impoting  libraries\n",
    "import argparse\n",
    "import getpass\n",
    "import logging\n",
    "import time\n",
    "from urllib.parse import quote\n",
    "import tableauserverclient as TSC\n",
    "import yaml\n",
    "import pandas as pd\n",
    "import openpyxl\n"
   ]
  },
  {
   "cell_type": "code",
   "execution_count": 15,
   "id": "4be63166",
   "metadata": {},
   "outputs": [
    {
     "name": "stdout",
     "output_type": "stream",
     "text": [
      "enter the name of tag you want in workbook Test Super StoresTag1\n",
      "Workbook Name: Clinical Trial Study Summary \n",
      "Clinical Trial Study Summary Workbook is now updated with Tag ['Tag1'] , please refresh your Tableau server to see the updated Tag\n",
      "Workbook Name: Clinical Trial Summaries and Reports \n",
      "Clinical Trial Summaries and Reports Workbook is now updated with Tag ['Tag1'] , please refresh your Tableau server to see the updated Tag\n",
      "Workbook Name: FDA Adverse Event Reporting System AERS Summary \n",
      "FDA Adverse Event Reporting System AERS Summary Workbook is now updated with Tag ['Tag1'] , please refresh your Tableau server to see the updated Tag\n",
      "Workbook Name: Healthcare Patient Monitor \n",
      "Healthcare Patient Monitor Workbook is now updated with Tag ['Tag1'] , please refresh your Tableau server to see the updated Tag\n",
      "Workbook Name: Safety Report \n",
      "Safety Report Workbook is now updated with Tag ['Tag1'] , please refresh your Tableau server to see the updated Tag\n",
      "Workbook Name: Inspection Regulatory Report \n",
      "Inspection Regulatory Report Workbook is now updated with Tag ['Tag1'] , please refresh your Tableau server to see the updated Tag\n",
      "Workbook Name: Life-Expectancy Report \n",
      "Life-Expectancy Report Workbook is now updated with Tag ['Tag1'] , please refresh your Tableau server to see the updated Tag\n",
      "Workbook Name: Gilead Science \n",
      "Gilead Science Workbook is now updated with Tag ['Tag1'] , please refresh your Tableau server to see the updated Tag\n"
     ]
    }
   ],
   "source": [
    "server_url=  'https://pixelperfecttableau.useready.com/'   \n",
    "username = 'appadmin'            \n",
    "password = 'Useready1'                               \n",
    "site =  ''\n",
    "tableau_auth = TSC.TableauAuth(username,\n",
    "                               password,\n",
    "                               site)\n",
    "\n",
    "server = TSC.Server(server_url, use_server_version=True)\n",
    "\n",
    "with server.auth.sign_in(tableau_auth):\n",
    "    \n",
    "     WB_tag = input(\"enter the name of tag you want in workbook {}\".format(wb.name)).split(',')\n",
    "        \n",
    "     for wb in TSC.Pager(server.workbooks):\n",
    "        \n",
    "        if wb.project_name in  [w LifeSciences\"]:\n",
    "\n",
    "    \n",
    "             print(\"Workbook Name: {} \".format(wb.name))\n",
    "             #WB_tag = input(\"enter the name of tag you want in workbook {}\".format(wb.name)).split(',')\n",
    "\n",
    "             new_tag_set = set(WB_tag)\n",
    "\n",
    "             wb.tags = new_tag_set\n",
    "\n",
    "             server.workbooks.update(wb)\n",
    "             print(\"{} Workbook is now updated with Tag {} , please refresh your Tableau server to see the updated Tag\" \n",
    "                  .format(wb.name,WB_tag))\n",
    "\n",
    "\n",
    "        "
   ]
  },
  {
   "cell_type": "code",
   "execution_count": null,
   "id": "b0e3415a",
   "metadata": {},
   "outputs": [],
   "source": []
  }
 ],
 "metadata": {
  "kernelspec": {
   "display_name": "Python 3 (ipykernel)",
   "language": "python",
   "name": "python3"
  },
  "language_info": {
   "codemirror_mode": {
    "name": "ipython",
    "version": 3
   },
   "file_extension": ".py",
   "mimetype": "text/x-python",
   "name": "python",
   "nbconvert_exporter": "python",
   "pygments_lexer": "ipython3",
   "version": "3.9.7"
  }
 },
 "nbformat": 4,
 "nbformat_minor": 5
}
