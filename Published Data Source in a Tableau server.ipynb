{
 "cells": [
  {
   "cell_type": "code",
   "execution_count": 1,
   "id": "b2d2b40f",
   "metadata": {},
   "outputs": [],
   "source": [
    "import tableauserverclient as TSC"
   ]
  },
  {
   "cell_type": "code",
   "execution_count": 3,
   "id": "ff363223",
   "metadata": {},
   "outputs": [
    {
     "name": "stdout",
     "output_type": "stream",
     "text": [
      "\n",
      "There are 23 datasources on site \n",
      "reporting (kinductStructure)\n",
      "Multiples Columns in Pivot Extract\n",
      "Sample - Superstore\n",
      "BOOTCAMP_SCHEMA.JNJ_CUSTOMER\n",
      "SampleSuperstore for react JS\n",
      "Sample - Superstore  -Color Palette Test\n",
      "Sample - Superstore - Color Palette Test - Linked Color\n",
      "india-trade-export\n",
      "Customers\n",
      "Quota\n",
      "Datasource-Monitor Requests And Users\n",
      "License Consumption Data\n",
      "Tableau Server - Content Usage\n",
      "Space Usage - Content Details and View Stats\n",
      "SALES_Q1 (PUBLIC)\n",
      "CAD_TEST (DEMO)\n",
      "PMAC_DATA (DEMO)\n",
      "Wealth Management Data\n",
      "5m Sales Records\n",
      "Sample - Superstore\n",
      "USGS Earthquake Feed\n",
      "Orders+ (Sample - Superstore)\n",
      "Test Snowflake Excel Join Output\n"
     ]
    }
   ],
   "source": [
    "server_url=  'https://pixelperfecttableau.useready.com/'   \n",
    "username = 'appadmin'            \n",
    "password = 'Useready1'                               \n",
    "site =  ''\n",
    "tableau_auth = TSC.TableauAuth(username,\n",
    "                               password,\n",
    "                               site)\n",
    "\n",
    "server = TSC.Server(server_url, use_server_version=True)\n",
    "\n",
    "with server.auth.sign_in(tableau_auth):\n",
    "    request_options = TSC.RequestOptions(pagesize=1000)\n",
    " \n",
    "   \n",
    "    all_wb = TSC.Pager(server.workbooks, request_options)\n",
    "    \n",
    "    \n",
    "    all_datasources, pagination_item = server.datasources.get(request_options)\n",
    "    datasource_ids = [datasource.id for datasource in all_datasources]\n",
    "    datasource_name = [datasource.name for datasource in all_datasources]\n",
    "    print(\"\\nThere are {} datasources on site \".format(len(all_datasources)))\n",
    "    \n",
    "    for ids in datasource_ids:\n",
    "            \n",
    "                  datasource = server.datasources.get_by_id(ids)\n",
    "                  print(datasource.name)"
   ]
  },
  {
   "cell_type": "code",
   "execution_count": null,
   "id": "aaa40fc3",
   "metadata": {},
   "outputs": [],
   "source": []
  }
 ],
 "metadata": {
  "kernelspec": {
   "display_name": "Python 3 (ipykernel)",
   "language": "python",
   "name": "python3"
  },
  "language_info": {
   "codemirror_mode": {
    "name": "ipython",
    "version": 3
   },
   "file_extension": ".py",
   "mimetype": "text/x-python",
   "name": "python",
   "nbconvert_exporter": "python",
   "pygments_lexer": "ipython3",
   "version": "3.9.7"
  }
 },
 "nbformat": 4,
 "nbformat_minor": 5
}
